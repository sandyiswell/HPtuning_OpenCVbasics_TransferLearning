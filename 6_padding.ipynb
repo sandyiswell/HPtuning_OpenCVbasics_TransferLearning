{
 "cells": [
  {
   "cell_type": "markdown",
   "metadata": {},
   "source": [
    "PADDING"
   ]
  },
  {
   "cell_type": "markdown",
   "metadata": {},
   "source": [
    "Padding is simply a process of adding layers of zeros to our input images so as to avoid the problems like shrinking the image dimension after a convolutional operation.\n",
    "Ref: https://www.geeksforgeeks.org/cnn-introduction-to-padding/#:~:text=Padding%20Input%20Images,%2B%202p)%20image%20after%20padding."
   ]
  },
  {
   "cell_type": "markdown",
   "metadata": {},
   "source": [
    "Sequential model in keras offers argument 'padding' to select a padding is needed or not while building a convnet. 'padding= 'valid'' means that there is no padding done. While 'padding = 'same'' results in padding with zeros evenly to the left/right or up/down of the input. When padding=\"same\" and strides=1, the output has the same size as the input."
   ]
  },
  {
   "cell_type": "markdown",
   "metadata": {},
   "source": [
    "Ref documentation: https://keras.io/api/layers/convolution_layers/convolution2d/"
   ]
  },
  {
   "cell_type": "code",
   "execution_count": 1,
   "metadata": {},
   "outputs": [
    {
     "name": "stderr",
     "output_type": "stream",
     "text": [
      "Using TensorFlow backend.\n"
     ]
    }
   ],
   "source": [
    "from keras.models import Sequential\n",
    "from keras.layers.convolutional import Conv2D\n",
    "from keras.layers.core import Dense\n",
    "import warnings\n",
    "warnings.filterwarnings('ignore')"
   ]
  },
  {
   "cell_type": "code",
   "execution_count": 2,
   "metadata": {
    "id": "fKsLBK3jNbux"
   },
   "outputs": [
    {
     "name": "stdout",
     "output_type": "stream",
     "text": [
      "WARNING:tensorflow:From C:\\Users\\sandeepma\\Anaconda3\\lib\\site-packages\\tensorflow_core\\python\\ops\\resource_variable_ops.py:1630: calling BaseResourceVariable.__init__ (from tensorflow.python.ops.resource_variable_ops) with constraint is deprecated and will be removed in a future version.\n",
      "Instructions for updating:\n",
      "If using Keras pass *_constraint arguments to layers.\n"
     ]
    }
   ],
   "source": [
    "# Creating a CNN With no padding.\n",
    "model_noPad = Sequential([\n",
    "    Dense(8, activation='relu', input_shape=(28,28,3)),  # input layer\n",
    "    # Input shape of the images to the network is 28x28x3.\n",
    "    # I have created an 8 neuron in the inital dense layer.\n",
    "    Conv2D(16, kernel_size=(3,3), activation='relu', padding='valid'),  # first conv2d layer\n",
    "    # convolution is done over 3x3 kernel with relu activation devoid of padding.\n",
    "    Conv2D(32, kernel_size=(7,7), activation='relu', padding='valid'),  # second conv2d layer\n",
    "    # In the second conv layer I have increased the filter size to 7x7\n",
    "    # Care must be taken that filter size should not exceed the size of the feature map dimension.\n",
    "    Conv2D(64, kernel_size=(9,9), activation='relu', padding='valid'),  # third conv2d layer\n",
    "    Dense(2, activation='sigmoid')]                                     # output layer with two neurons.\n",
    ")"
   ]
  },
  {
   "cell_type": "code",
   "execution_count": 3,
   "metadata": {
    "colab": {
     "base_uri": "https://localhost:8080/"
    },
    "id": "P6azHfP6Nbxc",
    "outputId": "65b5bd80-70bf-48fa-a3a2-c0e5c1e636b4"
   },
   "outputs": [
    {
     "name": "stdout",
     "output_type": "stream",
     "text": [
      "Model: \"sequential_1\"\n",
      "_________________________________________________________________\n",
      "Layer (type)                 Output Shape              Param #   \n",
      "=================================================================\n",
      "dense_1 (Dense)              (None, 28, 28, 8)         32        \n",
      "_________________________________________________________________\n",
      "conv2d_1 (Conv2D)            (None, 26, 26, 16)        1168      \n",
      "_________________________________________________________________\n",
      "conv2d_2 (Conv2D)            (None, 20, 20, 32)        25120     \n",
      "_________________________________________________________________\n",
      "conv2d_3 (Conv2D)            (None, 12, 12, 64)        165952    \n",
      "_________________________________________________________________\n",
      "dense_2 (Dense)              (None, 12, 12, 2)         130       \n",
      "=================================================================\n",
      "Total params: 192,402\n",
      "Trainable params: 192,402\n",
      "Non-trainable params: 0\n",
      "_________________________________________________________________\n"
     ]
    }
   ],
   "source": [
    "# Let's view the model summary.\n",
    "model_noPad.summary()"
   ]
  },
  {
   "cell_type": "markdown",
   "metadata": {},
   "source": [
    "Before going to the explanation of the summary, let's learn the equation to find output size of the feature map after filtering.\n",
    "\n",
    "𝑡 = [(𝑛 − 𝑓) + 1] + 2𝑝\n",
    "\n",
    "t- output dimension (height/width); \n",
    "n - dimension of input feature map;\n",
    "f- dimension of filter; \n",
    "p- padded number of layers"
   ]
  },
  {
   "cell_type": "code",
   "execution_count": 7,
   "metadata": {},
   "outputs": [
    {
     "data": {
      "text/plain": [
       "\"\\nExplaining the model summary.\\n\\nFirst dense layer: Output shape of the image is 28x28x3. 3 indicates number of channels. This output is fed into first conv layer.\\nFirst conv layer: input shape-> 28x28x3. Filter shape =3x3. output shape: 26x26x16\\n        -- i.e , t = [(28-3)+1] +0 = 26\\n        -- 16 is the number of feature maps the user specify, which is predefined by the user.\\nSecond conv layer: input shape-> 26x26x16, Filter shape=7x7, output shape: 20x20x32\\n        -- i.e, t = [(26-7)+1]+ 0 = 20\\n        -- 32 is the number of feature maps the user specify, which is predefined by the user.\\nThird conv layer: input shape-> 20x20x32, Filter shape=9x9, output shape: 12x12x64\\n        -- i.e, t = [(20-9)+1]+ 0 = 12\\n        -- 64 is the number of feature maps the user specify, which is predefined by the user.\\nFinal output (dense) layer: input shape-> 12x12x64, output shape: 12x12x2\\n        -- Since this is a fully connected layer, we don't have any filters.\\n        -- Also, 2 in the output shape says that we are taking output from two neurons.\\n\\n\""
      ]
     },
     "execution_count": 7,
     "metadata": {},
     "output_type": "execute_result"
    }
   ],
   "source": [
    "\"\"\"\n",
    "Explaining the model summary.\n",
    "\n",
    "First dense layer: Output shape of the image is 28x28x3. 3 indicates number of channels. This output is fed into first conv layer.\n",
    "First conv layer: input shape-> 28x28x3. Filter shape =3x3. output shape: 26x26x16\n",
    "        -- i.e , t = [(28-3)+1] +0 = 26\n",
    "        -- 16 is the number of feature maps the user specify, which is predefined by the user.\n",
    "Second conv layer: input shape-> 26x26x16, Filter shape=7x7, output shape: 20x20x32\n",
    "        -- i.e, t = [(26-7)+1]+ 0 = 20\n",
    "        -- 32 is the number of feature maps the user specify, which is predefined by the user.\n",
    "Third conv layer: input shape-> 20x20x32, Filter shape=9x9, output shape: 12x12x64\n",
    "        -- i.e, t = [(20-9)+1]+ 0 = 12\n",
    "        -- 64 is the number of feature maps the user specify, which is predefined by the user.\n",
    "Final output (dense) layer: input shape-> 12x12x64, output shape: 12x12x2\n",
    "        -- Since this is a fully connected layer, we don't have any filters.\n",
    "        -- Also, 2 in the output shape says that we are taking output from two neurons.\n",
    "\n",
    "\"\"\""
   ]
  },
  {
   "cell_type": "code",
   "execution_count": 4,
   "metadata": {
    "id": "OAn_CVZvNb0A"
   },
   "outputs": [],
   "source": [
    "# With padding added.\n",
    "# Changed only the input argument to 'valid'.\n",
    "# all other codes remains the same.\n",
    "model_Pad = Sequential([\n",
    "    Dense(8, activation='relu', input_shape=(28,28,3)),\n",
    "    Conv2D(16, kernel_size=(3,3), activation='relu', padding='same'),\n",
    "    Conv2D(32, kernel_size=(7,7), activation='relu', padding='same'),\n",
    "    Conv2D(64, kernel_size=(9,9), activation='relu', padding='same'),\n",
    "    Dense(2, activation='sigmoid')]\n",
    ")"
   ]
  },
  {
   "cell_type": "code",
   "execution_count": 5,
   "metadata": {
    "colab": {
     "base_uri": "https://localhost:8080/"
    },
    "id": "6mAisjb2Nb2p",
    "outputId": "c7e84730-4a59-4c3b-b9b8-569e848b9bd9"
   },
   "outputs": [
    {
     "name": "stdout",
     "output_type": "stream",
     "text": [
      "Model: \"sequential_2\"\n",
      "_________________________________________________________________\n",
      "Layer (type)                 Output Shape              Param #   \n",
      "=================================================================\n",
      "dense_3 (Dense)              (None, 28, 28, 8)         32        \n",
      "_________________________________________________________________\n",
      "conv2d_4 (Conv2D)            (None, 28, 28, 16)        1168      \n",
      "_________________________________________________________________\n",
      "conv2d_5 (Conv2D)            (None, 28, 28, 32)        25120     \n",
      "_________________________________________________________________\n",
      "conv2d_6 (Conv2D)            (None, 28, 28, 64)        165952    \n",
      "_________________________________________________________________\n",
      "dense_4 (Dense)              (None, 28, 28, 2)         130       \n",
      "=================================================================\n",
      "Total params: 192,402\n",
      "Trainable params: 192,402\n",
      "Non-trainable params: 0\n",
      "_________________________________________________________________\n"
     ]
    }
   ],
   "source": [
    "model_Pad.summary()"
   ]
  },
  {
   "cell_type": "code",
   "execution_count": 6,
   "metadata": {
    "id": "2sdoJkIgNb5s"
   },
   "outputs": [],
   "source": [
    "# You can compare the model summary of paddig Vs no padding. Observe that there is no change of dimension when we are adding padded zeros."
   ]
  },
  {
   "cell_type": "code",
   "execution_count": null,
   "metadata": {},
   "outputs": [],
   "source": []
  }
 ],
 "metadata": {
  "colab": {
   "collapsed_sections": [],
   "provenance": []
  },
  "kernelspec": {
   "display_name": "Python 3",
   "language": "python",
   "name": "python3"
  },
  "language_info": {
   "codemirror_mode": {
    "name": "ipython",
    "version": 3
   },
   "file_extension": ".py",
   "mimetype": "text/x-python",
   "name": "python",
   "nbconvert_exporter": "python",
   "pygments_lexer": "ipython3",
   "version": "3.7.6"
  }
 },
 "nbformat": 4,
 "nbformat_minor": 1
}

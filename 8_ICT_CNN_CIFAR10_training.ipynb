{
 "cells": [
  {
   "cell_type": "code",
   "execution_count": null,
   "metadata": {
    "id": "3LsX2bBs15ab"
   },
   "outputs": [],
   "source": [
    "import tensorflow as tf\n",
    "from tensorflow import keras\n",
    "import pandas as pd\n",
    "import numpy as np"
   ]
  },
  {
   "cell_type": "code",
   "execution_count": null,
   "metadata": {
    "colab": {
     "base_uri": "https://localhost:8080/"
    },
    "id": "i2UhrEHW180W",
    "outputId": "f3456144-aa63-4830-df78-70ffb6be5c67"
   },
   "outputs": [
    {
     "name": "stdout",
     "output_type": "stream",
     "text": [
      "Downloading data from https://www.cs.toronto.edu/~kriz/cifar-10-python.tar.gz\n",
      "170500096/170498071 [==============================] - 14s 0us/step\n",
      "170508288/170498071 [==============================] - 14s 0us/step\n"
     ]
    }
   ],
   "source": [
    "# loading the dataset.\n",
    "(xtrain, ytrain), (xtest, ytest) = keras.datasets.cifar10.load_data()"
   ]
  },
  {
   "cell_type": "code",
   "execution_count": null,
   "metadata": {
    "colab": {
     "base_uri": "https://localhost:8080/"
    },
    "id": "j6V-EM8W-ZrC",
    "outputId": "8fe8f969-1ab4-4e16-a837-0288d3a7d39e"
   },
   "outputs": [
    {
     "data": {
      "text/plain": [
       "1000"
      ]
     },
     "execution_count": 33,
     "metadata": {},
     "output_type": "execute_result"
    }
   ],
   "source": [
    "len(xtrain[49000:])"
   ]
  },
  {
   "cell_type": "code",
   "execution_count": null,
   "metadata": {
    "colab": {
     "base_uri": "https://localhost:8080/"
    },
    "id": "ZQ0Ksdv3182m",
    "outputId": "70bcb1bb-4991-45c9-a4b5-07971a60fc06"
   },
   "outputs": [
    {
     "name": "stdout",
     "output_type": "stream",
     "text": [
      "(50000, 32, 32, 3)\n",
      "(50000, 1)\n",
      "(10000, 32, 32, 3)\n",
      "(10000, 1)\n"
     ]
    }
   ],
   "source": [
    "##\n",
    "print(xtrain.shape)\n",
    "print(ytrain.shape)\n",
    "print(xtest.shape)\n",
    "print(ytest.shape)"
   ]
  },
  {
   "cell_type": "code",
   "execution_count": null,
   "metadata": {
    "colab": {
     "base_uri": "https://localhost:8080/"
    },
    "id": "Wq9p3yiQ184w",
    "outputId": "5175db15-0463-4215-fda7-96077bc5a99a"
   },
   "outputs": [
    {
     "name": "stdout",
     "output_type": "stream",
     "text": [
      "[[6]\n",
      " [9]\n",
      " [9]\n",
      " ...\n",
      " [9]\n",
      " [1]\n",
      " [1]]\n"
     ]
    }
   ],
   "source": [
    "## printing labels.\n",
    "print(ytrain)"
   ]
  },
  {
   "cell_type": "code",
   "execution_count": null,
   "metadata": {
    "colab": {
     "base_uri": "https://localhost:8080/"
    },
    "id": "1JvdaCcl186-",
    "outputId": "b2b79b50-42f3-4121-9077-e13bf57d4b05"
   },
   "outputs": [
    {
     "data": {
      "text/plain": [
       "6    5000\n",
       "9    5000\n",
       "4    5000\n",
       "1    5000\n",
       "2    5000\n",
       "7    5000\n",
       "8    5000\n",
       "3    5000\n",
       "5    5000\n",
       "0    5000\n",
       "dtype: int64"
      ]
     },
     "execution_count": 7,
     "metadata": {},
     "output_type": "execute_result"
    }
   ],
   "source": [
    "## total number of labels and their frequencies.\n",
    "pd.Series(ytrain.ravel()).value_counts()"
   ]
  },
  {
   "cell_type": "code",
   "execution_count": null,
   "metadata": {
    "id": "YgxusA25189H"
   },
   "outputs": [],
   "source": [
    "## see documentation for labels.\n",
    "## Url: https://www.tensorflow.org/api_docs/python/tf/keras/datasets/cifar10/load_data\n",
    "\n",
    "classes =[\"airplane\",\"automobile\",\"bird\",\"cat\",\"deer\",\"dog\",\"frog\",\"horse\",\"ship\",\"truck\"]"
   ]
  },
  {
   "cell_type": "code",
   "execution_count": null,
   "metadata": {
    "id": "E61Jrhmc19B8"
   },
   "outputs": [],
   "source": [
    "## let's rescale all pixel values to [0,1] range.\n",
    "\n",
    "# convert from integers to floats\n",
    "# normalize to range 0-1\n",
    "xtrain = xtrain.astype('float32')/255\n",
    "xtest = xtest.astype('float32')/255"
   ]
  },
  {
   "cell_type": "code",
   "execution_count": null,
   "metadata": {
    "id": "rSnDF9bC6S_R"
   },
   "outputs": [],
   "source": [
    "# to for one hot encoding.\n",
    "from tensorflow.keras.utils import to_categorical"
   ]
  },
  {
   "cell_type": "code",
   "execution_count": null,
   "metadata": {
    "id": "Na35SwpX6OtN"
   },
   "outputs": [],
   "source": [
    "ytrain = to_categorical(ytrain, 10)\n",
    "ytest = to_categorical(ytest, 10)"
   ]
  },
  {
   "cell_type": "code",
   "execution_count": null,
   "metadata": {
    "colab": {
     "base_uri": "https://localhost:8080/"
    },
    "id": "Et78oQBz4YAk",
    "outputId": "45805b62-b686-4e3a-e65d-f9fd8d92abf9"
   },
   "outputs": [
    {
     "data": {
      "text/plain": [
       "(32, 32, 3)"
      ]
     },
     "execution_count": 12,
     "metadata": {},
     "output_type": "execute_result"
    }
   ],
   "source": [
    "xtrain[0].shape"
   ]
  },
  {
   "cell_type": "code",
   "execution_count": null,
   "metadata": {
    "id": "XC3Qoekr19D3"
   },
   "outputs": [],
   "source": [
    "model = tf.keras.models.Sequential([\n",
    "    tf.keras.layers.Dense(512, activation='relu',input_shape=xtrain[0].shape),\n",
    "    tf.keras.layers.Conv2D(filters=30,kernel_size=(9,9), strides=(1,1), activation='relu' ),\n",
    "    # tf.keras.layers.BatchNormalization(),\n",
    "    tf.keras.layers.MaxPool2D(pool_size=(3,3), strides=(1,1)),\n",
    "    tf.keras.layers.Conv2D(filters=20, kernel_size=(7,7), strides=(1,1), activation='relu', padding=\"same\"),\n",
    "    # tf.keras.layers.BatchNormalization(),\n",
    "    tf.keras.layers.MaxPool2D(pool_size=(3,3), strides=(2,2)),\n",
    "    tf.keras.layers.Conv2D(filters=15, kernel_size=(5,5), strides=(1,1), activation='relu', padding=\"same\"),\n",
    "    # tf.keras.layers.BatchNormalization(),\n",
    "    tf.keras.layers.MaxPool2D(pool_size=(3,3), strides=(2,2)),\n",
    "    tf.keras.layers.Flatten(),\n",
    "    tf.keras.layers.Dense(256, activation='relu'),\n",
    "    tf.keras.layers.Dropout(0.5),\n",
    "    tf.keras.layers.Dense(10, activation='softmax')\n",
    "])"
   ]
  },
  {
   "cell_type": "code",
   "execution_count": null,
   "metadata": {
    "colab": {
     "base_uri": "https://localhost:8080/"
    },
    "id": "LsZcvnAR19GP",
    "outputId": "12d9e76f-0a93-4279-c07b-b276396eec42"
   },
   "outputs": [
    {
     "name": "stdout",
     "output_type": "stream",
     "text": [
      "Model: \"sequential_1\"\n",
      "_________________________________________________________________\n",
      " Layer (type)                Output Shape              Param #   \n",
      "=================================================================\n",
      " dense_3 (Dense)             (None, 32, 32, 512)       2048      \n",
      "                                                                 \n",
      " conv2d_3 (Conv2D)           (None, 24, 24, 30)        1244190   \n",
      "                                                                 \n",
      " max_pooling2d_3 (MaxPooling  (None, 22, 22, 30)       0         \n",
      " 2D)                                                             \n",
      "                                                                 \n",
      " conv2d_4 (Conv2D)           (None, 22, 22, 20)        29420     \n",
      "                                                                 \n",
      " max_pooling2d_4 (MaxPooling  (None, 10, 10, 20)       0         \n",
      " 2D)                                                             \n",
      "                                                                 \n",
      " conv2d_5 (Conv2D)           (None, 10, 10, 15)        7515      \n",
      "                                                                 \n",
      " max_pooling2d_5 (MaxPooling  (None, 4, 4, 15)         0         \n",
      " 2D)                                                             \n",
      "                                                                 \n",
      " flatten_1 (Flatten)         (None, 240)               0         \n",
      "                                                                 \n",
      " dense_4 (Dense)             (None, 256)               61696     \n",
      "                                                                 \n",
      " dropout_1 (Dropout)         (None, 256)               0         \n",
      "                                                                 \n",
      " dense_5 (Dense)             (None, 10)                2570      \n",
      "                                                                 \n",
      "=================================================================\n",
      "Total params: 1,347,439\n",
      "Trainable params: 1,347,439\n",
      "Non-trainable params: 0\n",
      "_________________________________________________________________\n"
     ]
    }
   ],
   "source": [
    "model.summary()"
   ]
  },
  {
   "cell_type": "code",
   "execution_count": null,
   "metadata": {
    "id": "SjJKO8UH19IR"
   },
   "outputs": [],
   "source": [
    "## compile model.\n",
    "model.compile(loss='categorical_crossentropy',optimizer='rmsprop', metrics=['accuracy'])"
   ]
  },
  {
   "cell_type": "code",
   "execution_count": null,
   "metadata": {
    "colab": {
     "base_uri": "https://localhost:8080/"
    },
    "id": "UEV-Tp0v19Ki",
    "outputId": "35e93b3c-5e1f-4878-ba0b-16f782c4e158"
   },
   "outputs": [
    {
     "name": "stdout",
     "output_type": "stream",
     "text": [
      "Epoch 1/20\n",
      "1563/1563 [==============================] - 46s 21ms/step - loss: 1.8015 - accuracy: 0.3452 - val_loss: 1.5256 - val_accuracy: 0.4451\n",
      "Epoch 2/20\n",
      "1563/1563 [==============================] - 33s 21ms/step - loss: 1.5412 - accuracy: 0.4462 - val_loss: 1.5609 - val_accuracy: 0.4523\n",
      "Epoch 3/20\n",
      "1563/1563 [==============================] - 32s 21ms/step - loss: 1.4521 - accuracy: 0.4801 - val_loss: 1.5982 - val_accuracy: 0.4427\n",
      "Epoch 4/20\n",
      "1563/1563 [==============================] - 33s 21ms/step - loss: 1.3981 - accuracy: 0.4981 - val_loss: 1.3882 - val_accuracy: 0.5020\n",
      "Epoch 5/20\n",
      "1563/1563 [==============================] - 32s 21ms/step - loss: 1.3635 - accuracy: 0.5169 - val_loss: 1.4786 - val_accuracy: 0.4882\n",
      "Epoch 6/20\n",
      "1563/1563 [==============================] - 33s 21ms/step - loss: 1.3455 - accuracy: 0.5223 - val_loss: 1.3767 - val_accuracy: 0.5256\n",
      "Epoch 7/20\n",
      "1563/1563 [==============================] - 33s 21ms/step - loss: 1.3256 - accuracy: 0.5324 - val_loss: 1.3179 - val_accuracy: 0.5289\n",
      "Epoch 8/20\n",
      "1563/1563 [==============================] - 32s 21ms/step - loss: 1.3067 - accuracy: 0.5416 - val_loss: 1.3966 - val_accuracy: 0.5097\n",
      "Epoch 9/20\n",
      "1563/1563 [==============================] - 33s 21ms/step - loss: 1.2993 - accuracy: 0.5443 - val_loss: 1.3476 - val_accuracy: 0.5263\n",
      "Epoch 10/20\n",
      "1563/1563 [==============================] - 32s 21ms/step - loss: 1.2986 - accuracy: 0.5461 - val_loss: 1.3119 - val_accuracy: 0.5347\n",
      "Epoch 11/20\n",
      "1563/1563 [==============================] - 33s 21ms/step - loss: 1.3057 - accuracy: 0.5413 - val_loss: 1.2842 - val_accuracy: 0.5470\n",
      "Epoch 12/20\n",
      "1563/1563 [==============================] - 32s 21ms/step - loss: 1.3066 - accuracy: 0.5436 - val_loss: 1.4511 - val_accuracy: 0.5035\n",
      "Epoch 13/20\n",
      "1563/1563 [==============================] - 33s 21ms/step - loss: 1.3206 - accuracy: 0.5394 - val_loss: 1.3295 - val_accuracy: 0.5267\n",
      "Epoch 14/20\n",
      "1563/1563 [==============================] - 32s 21ms/step - loss: 1.3324 - accuracy: 0.5352 - val_loss: 1.3356 - val_accuracy: 0.5479\n",
      "Epoch 15/20\n",
      "1563/1563 [==============================] - 32s 21ms/step - loss: 1.3359 - accuracy: 0.5325 - val_loss: 1.2897 - val_accuracy: 0.5573\n",
      "Epoch 16/20\n",
      "1563/1563 [==============================] - 32s 21ms/step - loss: 1.3555 - accuracy: 0.5273 - val_loss: 1.4475 - val_accuracy: 0.5092\n",
      "Epoch 17/20\n",
      "1563/1563 [==============================] - 33s 21ms/step - loss: 1.3695 - accuracy: 0.5219 - val_loss: 1.3187 - val_accuracy: 0.5423\n",
      "Epoch 18/20\n",
      "1563/1563 [==============================] - 33s 21ms/step - loss: 1.3865 - accuracy: 0.5166 - val_loss: 1.4196 - val_accuracy: 0.4920\n",
      "Epoch 19/20\n",
      "1563/1563 [==============================] - 32s 21ms/step - loss: 1.4071 - accuracy: 0.5103 - val_loss: 1.3279 - val_accuracy: 0.5306\n",
      "Epoch 20/20\n",
      "1563/1563 [==============================] - 32s 21ms/step - loss: 1.4195 - accuracy: 0.5067 - val_loss: 1.5402 - val_accuracy: 0.4902\n"
     ]
    }
   ],
   "source": [
    "# fit model\n",
    "history = model.fit(xtrain, ytrain, epochs=20, batch_size=32, validation_data=(xtest, ytest), verbose=1)"
   ]
  },
  {
   "cell_type": "code",
   "execution_count": null,
   "metadata": {
    "colab": {
     "base_uri": "https://localhost:8080/"
    },
    "id": "tkJro1Sp-4SX",
    "outputId": "a185a274-d968-4ecb-86d7-37ce3e063742"
   },
   "outputs": [
    {
     "name": "stdout",
     "output_type": "stream",
     "text": [
      "accuracy:  49.0200012922287\n"
     ]
    }
   ],
   "source": [
    "# evaluate model\n",
    "__, acc = model.evaluate(xtest, ytest, verbose=0)\n",
    "print(\"accuracy: \", acc*100)"
   ]
  },
  {
   "cell_type": "code",
   "execution_count": null,
   "metadata": {
    "colab": {
     "base_uri": "https://localhost:8080/"
    },
    "id": "2DcAjQ2C19M2",
    "outputId": "d54213e6-2628-4907-d81d-5707c7fe5e1f"
   },
   "outputs": [
    {
     "data": {
      "text/plain": [
       "array([[0.00652166, 0.00223199, 0.10193419, 0.49841455, 0.00962115,\n",
       "        0.27033076, 0.07776599, 0.02341774, 0.00741062, 0.00235136]],\n",
       "      dtype=float32)"
      ]
     },
     "execution_count": 29,
     "metadata": {},
     "output_type": "execute_result"
    }
   ],
   "source": [
    "model.predict(xtest[:1])"
   ]
  },
  {
   "cell_type": "code",
   "execution_count": null,
   "metadata": {
    "id": "_KtdKRMa19PJ"
   },
   "outputs": [],
   "source": [
    "## saving the model\n",
    "\n",
    "model.save('final_model.h5')"
   ]
  },
  {
   "cell_type": "code",
   "execution_count": null,
   "metadata": {
    "id": "xbo8fdj519Rf"
   },
   "outputs": [],
   "source": [
    "from tensorflow.keras import models "
   ]
  },
  {
   "cell_type": "code",
   "execution_count": null,
   "metadata": {
    "id": "Iuj6lbPZ_MGO"
   },
   "outputs": [],
   "source": [
    "# load model\n",
    "loaded_model = models.load_model('/content/final_model.h5')"
   ]
  },
  {
   "cell_type": "code",
   "execution_count": null,
   "metadata": {
    "id": "z-Ojd4z8_MIt"
   },
   "outputs": [],
   "source": [
    "# model.predict(testX[0])\n",
    "# predict the class\n",
    "result = model.predict(xtest[1:2])#, batch_size=None)"
   ]
  },
  {
   "cell_type": "code",
   "execution_count": null,
   "metadata": {
    "colab": {
     "base_uri": "https://localhost:8080/"
    },
    "id": "XdS79CLoC9Fd",
    "outputId": "802b3bc7-2e3c-4fc5-c54d-38da87f6fb1b"
   },
   "outputs": [
    {
     "data": {
      "text/plain": [
       "(1, 32, 32, 3)"
      ]
     },
     "execution_count": 88,
     "metadata": {},
     "output_type": "execute_result"
    }
   ],
   "source": [
    "xtest[1:2].shape"
   ]
  },
  {
   "cell_type": "code",
   "execution_count": null,
   "metadata": {
    "colab": {
     "base_uri": "https://localhost:8080/"
    },
    "id": "t_jaJkSPB_Hc",
    "outputId": "49c075b6-4496-439b-fa1f-3190f829ecd8"
   },
   "outputs": [
    {
     "data": {
      "text/plain": [
       "array([[1.7871529e-01, 3.4539393e-01, 5.3646727e-03, 1.8909517e-03,\n",
       "        8.4075163e-04, 2.5472013e-04, 4.3390595e-04, 4.3410333e-04,\n",
       "        4.2338371e-01, 4.3287970e-02]], dtype=float32)"
      ]
     },
     "execution_count": 89,
     "metadata": {},
     "output_type": "execute_result"
    }
   ],
   "source": [
    "result    # probabilities associated with each class"
   ]
  },
  {
   "cell_type": "code",
   "execution_count": null,
   "metadata": {
    "colab": {
     "base_uri": "https://localhost:8080/"
    },
    "id": "QES6uBKw_MK7",
    "outputId": "d51ba83d-3475-482f-a740-1cede62e17ee"
   },
   "outputs": [
    {
     "data": {
      "text/plain": [
       "8"
      ]
     },
     "execution_count": 79,
     "metadata": {},
     "output_type": "execute_result"
    }
   ],
   "source": [
    "np.argmax(result)  ## print the class of the instance."
   ]
  },
  {
   "cell_type": "code",
   "execution_count": null,
   "metadata": {
    "id": "bg-aI7eO_MNQ"
   },
   "outputs": [],
   "source": [
    "import cv2\n",
    "from google.colab.patches import cv2_imshow"
   ]
  },
  {
   "cell_type": "code",
   "execution_count": null,
   "metadata": {
    "colab": {
     "base_uri": "https://localhost:8080/"
    },
    "id": "liPA6QAYDAdr",
    "outputId": "16763f57-f7ca-4082-f5cd-c3bde6ffb9b4"
   },
   "outputs": [
    {
     "data": {
      "text/plain": [
       "(32, 32, 3)"
      ]
     },
     "execution_count": 84,
     "metadata": {},
     "output_type": "execute_result"
    }
   ],
   "source": [
    "xtest[1].shape"
   ]
  },
  {
   "cell_type": "code",
   "execution_count": null,
   "metadata": {
    "colab": {
     "base_uri": "https://localhost:8080/",
     "height": 217
    },
    "id": "VRsa8LtC_MPt",
    "outputId": "d2971e0b-70e1-4f38-e3ac-2366d9e2965b"
   },
   "outputs": [
    {
     "data": {
      "image/png": "[encoded data removed]",
      "text/plain": [
       "<PIL.Image.Image image mode=RGB size=200x200 at 0x7F32F5F933D0>"
      ]
     },
     "metadata": {},
     "output_type": "display_data"
    }
   ],
   "source": [
    "## for visualizing images\n",
    "cv2_imshow(cv2.resize((xtest[1]*255), (200,200)))"
   ]
  },
  {
   "cell_type": "code",
   "execution_count": null,
   "metadata": {
    "id": "LEi-5d9NBOOz"
   },
   "outputs": [],
   "source": [
    "import matplotlib.pyplot as plt"
   ]
  },
  {
   "cell_type": "code",
   "execution_count": null,
   "metadata": {
    "id": "7XrnA3bl_MSN"
   },
   "outputs": [],
   "source": [
    "# plot diagnostic learning curves\n",
    "def training_accuracy(history):\n",
    "    plt.subplot(211)\n",
    "    plt.title('Categorical Cross entropy loss')\n",
    "    plt.plot(history.history['loss'], color='black', label='train')\n",
    "    plt.plot(history.history['val_loss'], color='blue', label='test')\n",
    "    # plot accuracy\n",
    "    plt.subplot(212)\n",
    "    plt.title('Epochs Vs Training accuracy')\n",
    "    plt.plot(history.history['accuracy'], color='red', label='train')\n",
    "    plt.plot(history.history['val_accuracy'], color='green', label='test')\n",
    "    # save plot to file\n",
    "    # filename = sys.argv[0].split('/')[-1]\n",
    "    # pyplot.savefig(filename + '_plot.png')\n",
    "    # pyplot.close()"
   ]
  },
  {
   "cell_type": "code",
   "execution_count": null,
   "metadata": {
    "colab": {
     "base_uri": "https://localhost:8080/",
     "height": 281
    },
    "id": "s_Vpsk0cA58e",
    "outputId": "3caa1371-ca60-4308-d432-7d06b5540ab7"
   },
   "outputs": [
    {
     "data": {
      "image/png": "[encoded data removed]",
      "text/plain": [
       "<Figure size 432x288 with 2 Axes>"
      ]
     },
     "metadata": {
      "needs_background": "light"
     },
     "output_type": "display_data"
    }
   ],
   "source": [
    "training_accuracy(history)"
   ]
  },
  {
   "cell_type": "code",
   "execution_count": null,
   "metadata": {
    "id": "rU1P3vVRA5_D"
   },
   "outputs": [],
   "source": []
  },
  {
   "cell_type": "code",
   "execution_count": null,
   "metadata": {
    "id": "z2XiMNWAA6Bc"
   },
   "outputs": [],
   "source": []
  },
  {
   "cell_type": "code",
   "execution_count": null,
   "metadata": {
    "id": "7aUv2Y5tA6D7"
   },
   "outputs": [],
   "source": []
  }
 ],
 "metadata": {
  "accelerator": "GPU",
  "colab": {
   "collapsed_sections": [],
   "provenance": []
  },
  "gpuClass": "standard",
  "kernelspec": {
   "display_name": "Python 3",
   "language": "python",
   "name": "python3"
  },
  "language_info": {
   "codemirror_mode": {
    "name": "ipython",
    "version": 3
   },
   "file_extension": ".py",
   "mimetype": "text/x-python",
   "name": "python",
   "nbconvert_exporter": "python",
   "pygments_lexer": "ipython3",
   "version": "3.7.6"
  }
 },
 "nbformat": 4,
 "nbformat_minor": 1
}

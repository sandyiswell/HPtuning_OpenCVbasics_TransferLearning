{
  "nbformat": 4,
  "nbformat_minor": 0,
  "metadata": {
    "colab": {
      "name": "Eg_RandomSearchCV_v2.ipynb",
      "provenance": [],
      "collapsed_sections": []
    },
    "kernelspec": {
      "name": "python3",
      "display_name": "Python 3"
    },
    "language_info": {
      "name": "python"
    }
  },
  "cells": [
    {
      "cell_type": "code",
      "source": [
        "import keras\n",
        "import tensorflow as tf\n",
        "import pandas as pd\n",
        "import matplotlib.pyplot as plt\n",
        "from tensorflow.keras import Sequential\n",
        "from tensorflow.keras.layers import Dense,Flatten\n",
        "# from tensorflow.keras.datasets import mnist\n",
        "from tensorflow.keras.wrappers.scikit_learn import KerasClassifier\n",
        "from sklearn.model_selection import RandomizedSearchCV\n",
        "# from sklearn.metrics import accuracy_score, precision_score, recall_score"
      ],
      "metadata": {
        "id": "6avkMAVSktwa"
      },
      "execution_count": 62,
      "outputs": []
    },
    {
      "cell_type": "code",
      "source": [
        "mnist = tf.keras.datasets.mnist\n",
        "print(\"MNIST data loaded\")\n"
      ],
      "metadata": {
        "colab": {
          "base_uri": "https://localhost:8080/"
        },
        "id": "S3KTj_3Bikdi",
        "outputId": "5f2e490d-c92c-4b43-c972-caf2899e6cc5"
      },
      "execution_count": 63,
      "outputs": [
        {
          "output_type": "stream",
          "name": "stdout",
          "text": [
            "MNIST data loaded\n"
          ]
        }
      ]
    },
    {
      "cell_type": "code",
      "source": [
        "#  how these images look like in matplotlib?\n",
        "plt.imshow(mnist.load_data()[0][0][15]) #, cmap='binary') # these are grayscale images\n",
        "# therefore set colour map to binary.\n",
        "plt.xlabel(mnist.load_data()[0][1][15])\n",
        "plt.show()"
      ],
      "metadata": {
        "colab": {
          "base_uri": "https://localhost:8080/",
          "height": 279
        },
        "id": "1qlQ5-Qiikf9",
        "outputId": "b33eb20d-c88d-4f94-e0f4-64accd737ea1"
      },
      "execution_count": 64,
      "outputs": [
        {
          "output_type": "display_data",
          "data": {
            "text/plain": [
              "<Figure size 432x288 with 1 Axes>"
            ],
            "image/png": "[encoded data removed]"
          },
          "metadata": {
            "needs_background": "light"
          }
        }
      ]
    },
    {
      "cell_type": "code",
      "source": [
        "(X_train, y_train), (X_test, y_test) = mnist.load_data()\n",
        "# X_trn = X_train[..., np.newaxis].astype(np.float32) / 255.\n",
        "# X_tst = X_test[..., np.newaxis].astype(np.float32) / 255."
      ],
      "metadata": {
        "id": "gdL1z8ZuikiL"
      },
      "execution_count": 65,
      "outputs": []
    },
    {
      "cell_type": "code",
      "source": [
        "X_train[0].shape"
      ],
      "metadata": {
        "colab": {
          "base_uri": "https://localhost:8080/"
        },
        "id": "t1Fdk44ijZsC",
        "outputId": "8e80cd83-c8c3-49ef-810d-8d987c85ee3c"
      },
      "execution_count": 66,
      "outputs": [
        {
          "output_type": "execute_result",
          "data": {
            "text/plain": [
              "(28, 28)"
            ]
          },
          "metadata": {},
          "execution_count": 66
        }
      ]
    },
    {
      "cell_type": "code",
      "source": [
        "\n",
        "def nn_model(var_activation,var_optimizer):\n",
        "  \"\"\" Uses arguments to build Keras model. \"\"\"\n",
        "  model = Sequential()\n",
        "  model.add(Flatten(input_shape=X_train[0].shape))#[28, 28, 1]))\n",
        "  model.add(Dense(64,activation=var_activation))\n",
        "  model.add(Dense(32,activation=var_activation))\n",
        "  model.add(Dense(16,activation=var_activation))\n",
        "  model.add(Dense(10,activation='softmax'))\n",
        "  model.compile(loss=\"sparse_categorical_crossentropy\",\n",
        "                optimizer=var_optimizer,\n",
        "                metrics=[\"accuracy\"])\n",
        "  return model"
      ],
      "metadata": {
        "id": "43EClu0Kikj8"
      },
      "execution_count": 67,
      "outputs": []
    },
    {
      "cell_type": "code",
      "source": [
        "# example\n",
        "model = nn_model(var_activation='relu',var_optimizer='sgd')\n",
        "model.summary()"
      ],
      "metadata": {
        "colab": {
          "base_uri": "https://localhost:8080/"
        },
        "id": "sq_K6q5cikml",
        "outputId": "559910f9-e5e7-4da9-df88-81049f7042a7"
      },
      "execution_count": 69,
      "outputs": [
        {
          "output_type": "stream",
          "name": "stdout",
          "text": [
            "Model: \"sequential_42\"\n",
            "_________________________________________________________________\n",
            " Layer (type)                Output Shape              Param #   \n",
            "=================================================================\n",
            " flatten_42 (Flatten)        (None, 784)               0         \n",
            "                                                                 \n",
            " dense_168 (Dense)           (None, 64)                50240     \n",
            "                                                                 \n",
            " dense_169 (Dense)           (None, 32)                2080      \n",
            "                                                                 \n",
            " dense_170 (Dense)           (None, 16)                528       \n",
            "                                                                 \n",
            " dense_171 (Dense)           (None, 10)                170       \n",
            "                                                                 \n",
            "=================================================================\n",
            "Total params: 53,018\n",
            "Trainable params: 53,018\n",
            "Non-trainable params: 0\n",
            "_________________________________________________________________\n"
          ]
        }
      ]
    },
    {
      "cell_type": "code",
      "source": [
        "acti=['tanh','relu']\n",
        "opti=['sgd']\n",
        "b_size=[2]\n",
        "space=dict(var_activation=acti,\n",
        "            var_optimizer=opti,\n",
        "            batch_size=b_size)\n",
        "print(space)"
      ],
      "metadata": {
        "colab": {
          "base_uri": "https://localhost:8080/"
        },
        "id": "AgE6xq1Zk0ca",
        "outputId": "6f4207a6-1f0b-4a2d-8950-68e58fd6af3e"
      },
      "execution_count": 70,
      "outputs": [
        {
          "output_type": "stream",
          "name": "stdout",
          "text": [
            "{'var_activation': ['tanh', 'relu'], 'var_optimizer': ['sgd'], 'batch_size': [2]}\n"
          ]
        }
      ]
    },
    {
      "cell_type": "code",
      "source": [
        "classifier_model = KerasClassifier(build_fn=nn_model)#,epochs=4,batch_size=8)"
      ],
      "metadata": {
        "id": "C8MUpfo5k0fg"
      },
      "execution_count": 74,
      "outputs": []
    },
    {
      "cell_type": "code",
      "source": [
        "ranser = RandomizedSearchCV(classifier_model, param_distributions=space, cv=3,  n_iter=3)\n",
        "# rscv_results = ranser.fit(X_train, y_train)"
      ],
      "metadata": {
        "id": "NBjfDpGNk0iq"
      },
      "execution_count": 75,
      "outputs": []
    },
    {
      "cell_type": "code",
      "source": [
        "rscv_results = ranser.fit(X_train, y_train )"
      ],
      "metadata": {
        "colab": {
          "base_uri": "https://localhost:8080/"
        },
        "id": "3WnqLG8Okt1p",
        "outputId": "d548ef0f-2644-4ee5-e376-157347f520f6"
      },
      "execution_count": 76,
      "outputs": [
        {
          "output_type": "stream",
          "name": "stdout",
          "text": [
            "20000/20000 [==============================] - 35s 2ms/step - loss: 2.0160 - accuracy: 0.2446\n",
            "10000/10000 [==============================] - 16s 2ms/step - loss: 1.9297 - accuracy: 0.2400\n",
            "20000/20000 [==============================] - 34s 2ms/step - loss: 1.9410 - accuracy: 0.2734\n",
            "10000/10000 [==============================] - 15s 1ms/step - loss: 1.7511 - accuracy: 0.3392\n",
            "20000/20000 [==============================] - 34s 2ms/step - loss: 2.0721 - accuracy: 0.2278\n",
            "10000/10000 [==============================] - 14s 1ms/step - loss: 2.0204 - accuracy: 0.2652\n",
            "20000/20000 [==============================] - 33s 2ms/step - loss: nan - accuracy: 0.0983\n",
            "10000/10000 [==============================] - 14s 1ms/step - loss: nan - accuracy: 0.0997\n",
            "20000/20000 [==============================] - 55s 2ms/step - loss: 1134650365837312.0000 - accuracy: 0.1089\n",
            "10000/10000 [==============================] - 14s 1ms/step - loss: 2.3034 - accuracy: 0.1141\n",
            "20000/20000 [==============================] - 32s 2ms/step - loss: 641128398848.0000 - accuracy: 0.1120\n",
            "10000/10000 [==============================] - 14s 1ms/step - loss: 2.3040 - accuracy: 0.1089\n",
            "30000/30000 [==============================] - 49s 2ms/step - loss: 1.9231 - accuracy: 0.2758\n"
          ]
        }
      ]
    },
    {
      "cell_type": "code",
      "source": [
        "ranser.best_score_"
      ],
      "metadata": {
        "colab": {
          "base_uri": "https://localhost:8080/"
        },
        "id": "2yxls7Lekt3n",
        "outputId": "f8161c79-9d20-4ea2-85d4-79d683dfbdac"
      },
      "execution_count": 78,
      "outputs": [
        {
          "output_type": "execute_result",
          "data": {
            "text/plain": [
              "0.2814499984184901"
            ]
          },
          "metadata": {},
          "execution_count": 78
        }
      ]
    },
    {
      "cell_type": "code",
      "source": [
        "ranser.best_params_"
      ],
      "metadata": {
        "colab": {
          "base_uri": "https://localhost:8080/"
        },
        "id": "R_tUSsPB0eEC",
        "outputId": "7d31ad59-2d1e-4780-8dd6-61c4834ca807"
      },
      "execution_count": 79,
      "outputs": [
        {
          "output_type": "execute_result",
          "data": {
            "text/plain": [
              "{'var_optimizer': 'sgd', 'var_activation': 'tanh', 'batch_size': 2}"
            ]
          },
          "metadata": {},
          "execution_count": 79
        }
      ]
    },
    {
      "cell_type": "code",
      "source": [],
      "metadata": {
        "id": "ohE-a9ta0eGo"
      },
      "execution_count": null,
      "outputs": []
    },
    {
      "cell_type": "code",
      "source": [],
      "metadata": {
        "id": "yC5ylry10eJF"
      },
      "execution_count": null,
      "outputs": []
    },
    {
      "cell_type": "code",
      "source": [],
      "metadata": {
        "id": "kxdV8xSa0eLE"
      },
      "execution_count": null,
      "outputs": []
    }
  ]
}
{
 "cells": [
  {
   "cell_type": "code",
   "execution_count": null,
   "metadata": {
    "id": "oA28pCUKrF70"
   },
   "outputs": [],
   "source": [
    "import tensorflow as tf\n",
    "from tensorflow import keras\n",
    "import cv2\n",
    "import numpy as np\n",
    "# for one hot encoding.\n",
    "from tensorflow.keras.utils import to_categorical\n",
    "from tensorflow.keras.applications import vgg16 as vgg\n",
    "from tensorflow.keras.layers import Dense, Dropout, Flatten, GlobalAveragePooling2D, BatchNormalization\n",
    "from tensorflow.keras import Model\n",
    "from tensorflow.keras.preprocessing.image import ImageDataGenerator "
   ]
  },
  {
   "cell_type": "code",
   "execution_count": null,
   "metadata": {
    "colab": {
     "base_uri": "https://localhost:8080/"
    },
    "id": "RF2is0dIrYHj",
    "outputId": "f13c7cc3-56fa-4485-cd20-dae6e1d40d8d"
   },
   "outputs": [
    {
     "name": "stdout",
     "output_type": "stream",
     "text": [
      "Downloading data from https://www.cs.toronto.edu/~kriz/cifar-10-python.tar.gz\n",
      "170500096/170498071 [==============================] - 14s 0us/step\n",
      "170508288/170498071 [==============================] - 14s 0us/step\n"
     ]
    }
   ],
   "source": [
    "# loading the dataset.\n",
    "(xtrain, ytrain), (xtest, ytest) = keras.datasets.cifar10.load_data()"
   ]
  },
  {
   "cell_type": "code",
   "execution_count": null,
   "metadata": {
    "id": "hAgVLO4BrYJ_"
   },
   "outputs": [],
   "source": [
    "## limitting number of images for saving resources\n",
    "xtrain=xtrain[:5000]\n",
    "ytrain=ytrain[:5000]\n",
    "xtest=xtest[:1000]\n",
    "ytest=ytest[:1000]"
   ]
  },
  {
   "cell_type": "code",
   "execution_count": null,
   "metadata": {
    "id": "OnCDivujrYMX"
   },
   "outputs": [],
   "source": [
    "## converting to input format of AlexNet.\n",
    "xtrain=np.array([cv2.resize(i, (224,224)) for i in xtrain])  ## cv2 channel issue not addressed?\n",
    "xtest=np.array([cv2.resize(i, (224,224)) for i in xtest])"
   ]
  },
  {
   "cell_type": "code",
   "execution_count": null,
   "metadata": {
    "id": "zl25OPwtrYOl"
   },
   "outputs": [],
   "source": [
    "## let's rescale all pixel values to [0,1] range.\n",
    "\n",
    "# convert from integers to floats\n",
    "# normalize to range 0-1\n",
    "xtrain = xtrain.astype('float32')/255\n",
    "xtest = xtest.astype('float32')/255"
   ]
  },
  {
   "cell_type": "code",
   "execution_count": null,
   "metadata": {
    "id": "iZooIYj5rYQ3"
   },
   "outputs": [],
   "source": [
    "ytrain = to_categorical(ytrain, 10) # 10 indicates total number of unique labels.\n",
    "ytest = to_categorical(ytest, 10)"
   ]
  },
  {
   "cell_type": "code",
   "execution_count": null,
   "metadata": {
    "colab": {
     "base_uri": "https://localhost:8080/"
    },
    "id": "JgplJmnD1Rsj",
    "outputId": "b54a7842-c9f9-42a6-cddf-59e7417d6113"
   },
   "outputs": [
    {
     "name": "stdout",
     "output_type": "stream",
     "text": [
      "Downloading data from https://storage.googleapis.com/tensorflow/keras-applications/vgg16/vgg16_weights_tf_dim_ordering_tf_kernels_notop.h5\n",
      "58892288/58889256 [==============================] - 0s 0us/step\n",
      "58900480/58889256 [==============================] - 0s 0us/step\n"
     ]
    }
   ],
   "source": [
    "loaded_model=vgg.VGG16(weights='imagenet', include_top=False, input_shape=(224,224,3))"
   ]
  },
  {
   "cell_type": "code",
   "execution_count": null,
   "metadata": {
    "id": "Aj4yMrHt1Ru9"
   },
   "outputs": [],
   "source": [
    "last_layer=loaded_model.get_layer('block3_pool').output"
   ]
  },
  {
   "cell_type": "code",
   "execution_count": null,
   "metadata": {
    "id": "sztYStti2Edl"
   },
   "outputs": [],
   "source": [
    "x=GlobalAveragePooling2D()(last_layer)\n",
    "# x=BatchNormalization(x)\n",
    "x=Dense(256, activation='relu')(x)\n",
    "x=Dense(256, activation='relu')(x)\n",
    "x=Dropout(0.5)(x)\n",
    "final=Dense(10, activation='softmax')(x)  # 10 is the total number of classes.\n",
    "\n",
    "## constructing our finalized model.\n",
    "model=Model(loaded_model.input, final)\n"
   ]
  },
  {
   "cell_type": "code",
   "execution_count": null,
   "metadata": {
    "id": "gzfrfua-2Efw"
   },
   "outputs": [],
   "source": [
    "# other are frozen\n",
    "for layer in loaded_model.layers:  \n",
    "  layer.trainable=False"
   ]
  },
  {
   "cell_type": "code",
   "execution_count": null,
   "metadata": {
    "id": "Y_j9QY3J2Ei9"
   },
   "outputs": [],
   "source": [
    "# ## compile model.\n",
    "model.compile(loss='categorical_crossentropy',optimizer='rmsprop', metrics=['accuracy'])"
   ]
  },
  {
   "cell_type": "code",
   "execution_count": null,
   "metadata": {
    "colab": {
     "base_uri": "https://localhost:8080/"
    },
    "id": "Q-2qrda83lxF",
    "outputId": "b3d60574-c2f8-4db2-b6f2-fc9214e7dd6d"
   },
   "outputs": [
    {
     "name": "stdout",
     "output_type": "stream",
     "text": [
      "Model: \"model\"\n",
      "_________________________________________________________________\n",
      " Layer (type)                Output Shape              Param #   \n",
      "=================================================================\n",
      " input_1 (InputLayer)        [(None, 224, 224, 3)]     0         \n",
      "                                                                 \n",
      " block1_conv1 (Conv2D)       (None, 224, 224, 64)      1792      \n",
      "                                                                 \n",
      " block1_conv2 (Conv2D)       (None, 224, 224, 64)      36928     \n",
      "                                                                 \n",
      " block1_pool (MaxPooling2D)  (None, 112, 112, 64)      0         \n",
      "                                                                 \n",
      " block2_conv1 (Conv2D)       (None, 112, 112, 128)     73856     \n",
      "                                                                 \n",
      " block2_conv2 (Conv2D)       (None, 112, 112, 128)     147584    \n",
      "                                                                 \n",
      " block2_pool (MaxPooling2D)  (None, 56, 56, 128)       0         \n",
      "                                                                 \n",
      " block3_conv1 (Conv2D)       (None, 56, 56, 256)       295168    \n",
      "                                                                 \n",
      " block3_conv2 (Conv2D)       (None, 56, 56, 256)       590080    \n",
      "                                                                 \n",
      " block3_conv3 (Conv2D)       (None, 56, 56, 256)       590080    \n",
      "                                                                 \n",
      " block3_pool (MaxPooling2D)  (None, 28, 28, 256)       0         \n",
      "                                                                 \n",
      " global_average_pooling2d (G  (None, 256)              0         \n",
      " lobalAveragePooling2D)                                          \n",
      "                                                                 \n",
      " dense (Dense)               (None, 256)               65792     \n",
      "                                                                 \n",
      " dense_1 (Dense)             (None, 256)               65792     \n",
      "                                                                 \n",
      " dropout (Dropout)           (None, 256)               0         \n",
      "                                                                 \n",
      " dense_2 (Dense)             (None, 10)                2570      \n",
      "                                                                 \n",
      "=================================================================\n",
      "Total params: 1,869,642\n",
      "Trainable params: 134,154\n",
      "Non-trainable params: 1,735,488\n",
      "_________________________________________________________________\n"
     ]
    }
   ],
   "source": [
    "model.summary()"
   ]
  },
  {
   "cell_type": "code",
   "execution_count": null,
   "metadata": {
    "id": "KG5CJkMV31vd"
   },
   "outputs": [],
   "source": [
    "# prepare data augmentation.\n",
    "train_datagen=ImageDataGenerator(rescale=1/255, rotation_range=20)\n",
    "train_datagen.fit(xtrain)\n",
    "train_generator=train_datagen.flow(xtrain, ytrain, batch_size=32)"
   ]
  },
  {
   "cell_type": "code",
   "execution_count": null,
   "metadata": {
    "id": "CDWPMQN_31xk"
   },
   "outputs": [],
   "source": [
    "# prepare data augmentation.\n",
    "val_datagen=ImageDataGenerator(rescale=1/255, rotation_range=20)\n",
    "val_datagen.fit(xtest)\n",
    "val_generator=val_datagen.flow(xtest, ytest, batch_size=32)"
   ]
  },
  {
   "cell_type": "code",
   "execution_count": null,
   "metadata": {
    "colab": {
     "base_uri": "https://localhost:8080/"
    },
    "id": "6VoWjZYp3110",
    "outputId": "04f774e2-a2db-4455-ff54-07e8b3b55c6e"
   },
   "outputs": [
    {
     "name": "stderr",
     "output_type": "stream",
     "text": [
      "/usr/local/lib/python3.7/dist-packages/ipykernel_launcher.py:7: UserWarning: `Model.fit_generator` is deprecated and will be removed in a future version. Please use `Model.fit`, which supports generators.\n",
      "  import sys\n"
     ]
    },
    {
     "name": "stdout",
     "output_type": "stream",
     "text": [
      "Epoch 1/10\n",
      "156/156 [==============================] - 78s 419ms/step - loss: 2.6456 - accuracy: 0.1012 - val_loss: 2.3023 - val_accuracy: 0.1069\n",
      "Epoch 2/10\n",
      "156/156 [==============================] - 65s 417ms/step - loss: 2.3025 - accuracy: 0.1019 - val_loss: 2.3021 - val_accuracy: 0.1058\n",
      "Epoch 3/10\n",
      "156/156 [==============================] - 66s 420ms/step - loss: 2.3023 - accuracy: 0.0984 - val_loss: 2.3020 - val_accuracy: 0.1048\n",
      "Epoch 4/10\n",
      "156/156 [==============================] - 65s 418ms/step - loss: 2.3022 - accuracy: 0.1004 - val_loss: 2.3019 - val_accuracy: 0.1058\n",
      "Epoch 5/10\n",
      "156/156 [==============================] - 65s 417ms/step - loss: 2.3022 - accuracy: 0.1017 - val_loss: 2.3020 - val_accuracy: 0.1058\n",
      "Epoch 6/10\n",
      "156/156 [==============================] - 65s 416ms/step - loss: 2.3021 - accuracy: 0.1019 - val_loss: 2.3020 - val_accuracy: 0.1008\n",
      "Epoch 7/10\n",
      "156/156 [==============================] - 65s 415ms/step - loss: 2.3022 - accuracy: 0.0984 - val_loss: 2.3023 - val_accuracy: 0.0968\n",
      "Epoch 8/10\n",
      "156/156 [==============================] - 64s 412ms/step - loss: 2.3022 - accuracy: 0.1002 - val_loss: 2.3021 - val_accuracy: 0.0907\n",
      "Epoch 9/10\n",
      "156/156 [==============================] - 64s 411ms/step - loss: 2.3022 - accuracy: 0.1025 - val_loss: 2.3022 - val_accuracy: 0.0897\n",
      "Epoch 10/10\n",
      "156/156 [==============================] - 64s 411ms/step - loss: 2.3021 - accuracy: 0.1031 - val_loss: 2.3020 - val_accuracy: 0.0887\n"
     ]
    }
   ],
   "source": [
    "train_steps=xtrain.shape[0]//32  ## 32 is batch size\n",
    "val_steps=xtest.shape[0]//32\n",
    "\n",
    "history=model.fit_generator(\n",
    "    train_generator, steps_per_epoch=train_steps, \n",
    "    validation_data=val_generator, validation_steps=val_steps,\n",
    "    epochs=10, verbose=1\n",
    "    )\n",
    "\n"
   ]
  },
  {
   "cell_type": "code",
   "execution_count": null,
   "metadata": {
    "colab": {
     "base_uri": "https://localhost:8080/"
    },
    "id": "jbNv8VXp314N",
    "outputId": "20cd8b3d-accc-4fd1-90cf-d65775345273"
   },
   "outputs": [
    {
     "name": "stdout",
     "output_type": "stream",
     "text": [
      "accuracy:  9.300000220537186\n"
     ]
    }
   ],
   "source": [
    "# evaluate model\n",
    "__, acc = model.evaluate(xtest, ytest, verbose=0)\n",
    "print(\"accuracy: \", acc*100)"
   ]
  },
  {
   "cell_type": "code",
   "execution_count": null,
   "metadata": {
    "colab": {
     "base_uri": "https://localhost:8080/"
    },
    "id": "Z-JMOTkg3l1n",
    "outputId": "a09f212a-4d3a-44b5-e794-75c3db19724d"
   },
   "outputs": [
    {
     "data": {
      "text/plain": [
       "array([[1.4838192e-04, 2.5567864e-03, 3.5295663e-03, 3.2458559e-01,\n",
       "        5.7715300e-04, 3.1639403e-03, 7.9576802e-03, 6.0776019e-01,\n",
       "        1.2042059e-05, 4.9708571e-02]], dtype=float32)"
      ]
     },
     "execution_count": 82,
     "metadata": {},
     "output_type": "execute_result"
    }
   ],
   "source": [
    "model.predict(xtest[:1])"
   ]
  },
  {
   "cell_type": "code",
   "execution_count": null,
   "metadata": {
    "id": "gRtDWWSGrYaA"
   },
   "outputs": [],
   "source": [
    "# ========================================= THE END ========================================="
   ]
  }
 ],
 "metadata": {
  "accelerator": "GPU",
  "colab": {
   "collapsed_sections": [],
   "provenance": []
  },
  "gpuClass": "standard",
  "kernelspec": {
   "display_name": "Python 3",
   "language": "python",
   "name": "python3"
  },
  "language_info": {
   "codemirror_mode": {
    "name": "ipython",
    "version": 3
   },
   "file_extension": ".py",
   "mimetype": "text/x-python",
   "name": "python",
   "nbconvert_exporter": "python",
   "pygments_lexer": "ipython3",
   "version": "3.7.6"
  }
 },
 "nbformat": 4,
 "nbformat_minor": 1
}

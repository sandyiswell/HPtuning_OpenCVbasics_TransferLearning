{
 "cells": [
  {
   "cell_type": "code",
   "execution_count": null,
   "metadata": {
    "id": "D7HPzSpc26a2"
   },
   "outputs": [],
   "source": [
    "# Importing required libraries.\n",
    "import tensorflow as tf\n",
    "from tensorflow import keras\n",
    "import pandas as pd\n",
    "import numpy as np\n",
    "import matplotlib.pyplot as plt\n",
    "import cv2\n",
    "# for one hot encoding.\n",
    "from tensorflow.keras.utils import to_categorical"
   ]
  },
  {
   "cell_type": "code",
   "execution_count": null,
   "metadata": {
    "id": "dZo8IQDl-_Nz"
   },
   "outputs": [],
   "source": [
    "# loading the dataset.\n",
    "# Read the documentation here.\n",
    "# https://keras.io/api/datasets/cifar10/\n",
    "(xtrain, ytrain), (xtest, ytest) = keras.datasets.cifar10.load_data()"
   ]
  },
  {
   "cell_type": "code",
   "execution_count": null,
   "metadata": {
    "colab": {
     "base_uri": "https://localhost:8080/"
    },
    "id": "CKCKHNEfD4x2",
    "outputId": "a9ff3c9b-f022-417c-ed18-f0a0c3a1bfe4"
   },
   "outputs": [
    {
     "name": "stdout",
     "output_type": "stream",
     "text": [
      "(50000, 32, 32, 3)\n",
      "(50000, 1)\n",
      "(10000, 32, 32, 3)\n",
      "(10000, 1)\n"
     ]
    }
   ],
   "source": [
    "##\n",
    "print(xtrain.shape)\n",
    "print(ytrain.shape)\n",
    "print(xtest.shape)\n",
    "print(ytest.shape)"
   ]
  },
  {
   "cell_type": "code",
   "execution_count": null,
   "metadata": {
    "id": "61v26I5wWPnq"
   },
   "outputs": [],
   "source": [
    "## limitting number of images for saving resources and computation.\n",
    "## If you have good GPU's you may try take the whole dataset, otherwise the system may crash.\n",
    "xtrain=xtrain[:5000]\n",
    "ytrain=ytrain[:5000]\n",
    "xtest=xtest[:1000]\n",
    "ytest=ytest[:1000]"
   ]
  },
  {
   "cell_type": "code",
   "execution_count": null,
   "metadata": {
    "id": "ZNkzTpBoVfHF"
   },
   "outputs": [],
   "source": [
    "## converting to input format of AlexNet.\n",
    "## Input shape according to AlexNet implemenation is 227x227.\n",
    "xtrain=np.array([cv2.resize(i, (227,227)) for i in xtrain])  \n",
    "xtest=np.array([cv2.resize(i, (227,227)) for i in xtest])"
   ]
  },
  {
   "cell_type": "code",
   "execution_count": null,
   "metadata": {
    "colab": {
     "base_uri": "https://localhost:8080/"
    },
    "id": "sotnEX22VuGr",
    "outputId": "64581ef3-ecbf-4687-8d05-f8b4a69f906a"
   },
   "outputs": [
    {
     "name": "stdout",
     "output_type": "stream",
     "text": [
      "(227, 227, 3)\n",
      "(227, 227, 3)\n"
     ]
    }
   ],
   "source": [
    "print(xtrain[0].shape)\n",
    "print(xtest[0].shape)"
   ]
  },
  {
   "cell_type": "code",
   "execution_count": null,
   "metadata": {
    "id": "U6EKLqTfD42o"
   },
   "outputs": [],
   "source": [
    "## let's rescale all pixel values to [0,1] range.\n",
    "# convert from integers to floats\n",
    "# normalize to range 0-1\n",
    "xtrain = xtrain.astype('float32')/255\n",
    "xtest = xtest.astype('float32')/255"
   ]
  },
  {
   "cell_type": "code",
   "execution_count": null,
   "metadata": {
    "colab": {
     "base_uri": "https://localhost:8080/"
    },
    "id": "xBBmCRz3PMII",
    "outputId": "b5577240-8380-40c2-8de2-3ff5e2938cb0"
   },
   "outputs": [
    {
     "data": {
      "text/plain": [
       "(227, 227, 3)"
      ]
     },
     "execution_count": 13,
     "metadata": {},
     "output_type": "execute_result"
    }
   ],
   "source": [
    "xtrain[0].shape"
   ]
  },
  {
   "cell_type": "code",
   "execution_count": null,
   "metadata": {
    "id": "7g8yAa6wD46x"
   },
   "outputs": [],
   "source": [
    "ytrain = to_categorical(ytrain, 10) # 10 indicates total number of unique labels.\n",
    "ytest = to_categorical(ytest, 10)"
   ]
  },
  {
   "cell_type": "code",
   "execution_count": null,
   "metadata": {
    "colab": {
     "base_uri": "https://localhost:8080/"
    },
    "id": "9rNdkLt2F7y1",
    "outputId": "a9cfaaa2-bee7-4199-a295-1a32a129d4ed"
   },
   "outputs": [
    {
     "data": {
      "text/plain": [
       "(227, 227, 3)"
      ]
     },
     "execution_count": 16,
     "metadata": {},
     "output_type": "execute_result"
    }
   ],
   "source": [
    "xtrain[0].shape"
   ]
  },
  {
   "cell_type": "code",
   "execution_count": null,
   "metadata": {},
   "outputs": [],
   "source": [
    "# You can read AlexNet original research paper here.\n",
    "# https://proceedings.neurips.cc/paper/2012/file/c399862d3b9d6b76c8436e924a68c45b-Paper.pdf\n",
    "# Implementation is done according to this paper.\n",
    "# The original paper says that input image dimensions are 224x224x3. However, it returns error due to padding issues.\n",
    "# Thus the right way is to take input dimension as 227x227x3."
   ]
  },
  {
   "cell_type": "code",
   "execution_count": null,
   "metadata": {
    "id": "KdUoiyo_4ZkA"
   },
   "outputs": [],
   "source": [
    "# Build AlexNet.\n",
    "\n",
    "model = tf.keras.models.Sequential([\n",
    "    tf.keras.layers.Conv2D(filters=96, kernel_size=(11,11), strides=(4,4), activation='relu', input_shape=(227,227,3)),\n",
    "    # tf.keras.layers.BatchNormalization(),\n",
    "    tf.keras.layers.MaxPool2D(pool_size=(3,3), strides=(2,2)),\n",
    "    tf.keras.layers.Conv2D(filters=256, kernel_size=(5,5), strides=(1,1), activation='relu', padding=\"same\"),\n",
    "    # tf.keras.layers.BatchNormalization(),\n",
    "    tf.keras.layers.MaxPool2D(pool_size=(3,3), strides=(2,2)),\n",
    "    tf.keras.layers.Conv2D(filters=384, kernel_size=(3,3), strides=(1,1), activation='relu', padding=\"same\"),\n",
    "    # tf.keras.layers.BatchNormalization(),\n",
    "    tf.keras.layers.Conv2D(filters=384, kernel_size=(3,3), strides=(1,1), activation='relu', padding=\"same\"),\n",
    "    # tf.keras.layers.BatchNormalization(),\n",
    "    tf.keras.layers.Conv2D(filters=256, kernel_size=(3,3), strides=(1,1), activation='relu', padding=\"same\"),\n",
    "    # tf.keras.layers.BatchNormalization(),\n",
    "    tf.keras.layers.MaxPool2D(pool_size=(3,3), strides=(2,2)),\n",
    "    tf.keras.layers.Flatten(),\n",
    "    tf.keras.layers.Dense(4096, activation='relu'),\n",
    "    tf.keras.layers.Dropout(0.5),\n",
    "    tf.keras.layers.Dense(4096, activation='relu'),\n",
    "    tf.keras.layers.Dropout(0.5),\n",
    "    tf.keras.layers.Dense(10, activation='softmax')\n",
    "])"
   ]
  },
  {
   "cell_type": "code",
   "execution_count": null,
   "metadata": {
    "colab": {
     "base_uri": "https://localhost:8080/"
    },
    "id": "HtS6TRaW4Zm7",
    "outputId": "648c884f-4009-4da8-a040-6bcd471702b3"
   },
   "outputs": [
    {
     "name": "stdout",
     "output_type": "stream",
     "text": [
      "Model: \"sequential\"\n",
      "_________________________________________________________________\n",
      " Layer (type)                Output Shape              Param #   \n",
      "=================================================================\n",
      " conv2d (Conv2D)             (None, 55, 55, 96)        34944     \n",
      "                                                                 \n",
      " max_pooling2d (MaxPooling2D  (None, 27, 27, 96)       0         \n",
      " )                                                               \n",
      "                                                                 \n",
      " conv2d_1 (Conv2D)           (None, 27, 27, 256)       614656    \n",
      "                                                                 \n",
      " max_pooling2d_1 (MaxPooling  (None, 13, 13, 256)      0         \n",
      " 2D)                                                             \n",
      "                                                                 \n",
      " conv2d_2 (Conv2D)           (None, 13, 13, 384)       885120    \n",
      "                                                                 \n",
      " conv2d_3 (Conv2D)           (None, 13, 13, 384)       1327488   \n",
      "                                                                 \n",
      " conv2d_4 (Conv2D)           (None, 13, 13, 256)       884992    \n",
      "                                                                 \n",
      " max_pooling2d_2 (MaxPooling  (None, 6, 6, 256)        0         \n",
      " 2D)                                                             \n",
      "                                                                 \n",
      " flatten (Flatten)           (None, 9216)              0         \n",
      "                                                                 \n",
      " dense (Dense)               (None, 4096)              37752832  \n",
      "                                                                 \n",
      " dropout (Dropout)           (None, 4096)              0         \n",
      "                                                                 \n",
      " dense_1 (Dense)             (None, 4096)              16781312  \n",
      "                                                                 \n",
      " dropout_1 (Dropout)         (None, 4096)              0         \n",
      "                                                                 \n",
      " dense_2 (Dense)             (None, 10)                40970     \n",
      "                                                                 \n",
      "=================================================================\n",
      "Total params: 58,322,314\n",
      "Trainable params: 58,322,314\n",
      "Non-trainable params: 0\n",
      "_________________________________________________________________\n"
     ]
    }
   ],
   "source": [
    "model.summary()"
   ]
  },
  {
   "cell_type": "code",
   "execution_count": 1,
   "metadata": {},
   "outputs": [],
   "source": [
    "# To understand how to read model summary in detail please refer the url https://github.com/sandyiswell/HPtuning_OpenCVbasics_TransferLearning/blob/main/6_padding.ipynb"
   ]
  },
  {
   "cell_type": "code",
   "execution_count": null,
   "metadata": {
    "id": "FQ5OQ6f34Zpz"
   },
   "outputs": [],
   "source": [
    "## compile model.\n",
    "model.compile(loss='categorical_crossentropy',optimizer='rmsprop', metrics=['accuracy'])"
   ]
  },
  {
   "cell_type": "code",
   "execution_count": null,
   "metadata": {
    "colab": {
     "base_uri": "https://localhost:8080/"
    },
    "id": "y1dNs1GCI4Kv",
    "outputId": "55be70ce-6ffc-4833-8230-ba7fa571e011"
   },
   "outputs": [
    {
     "name": "stdout",
     "output_type": "stream",
     "text": [
      "Epoch 1/20\n",
      "157/157 [==============================] - 23s 70ms/step - loss: 49.7879 - accuracy: 0.1128 - val_loss: 2.3087 - val_accuracy: 0.0900\n",
      "Epoch 2/20\n",
      "157/157 [==============================] - 10s 64ms/step - loss: 2.3335 - accuracy: 0.0930 - val_loss: 2.3061 - val_accuracy: 0.0900\n",
      "Epoch 3/20\n",
      "157/157 [==============================] - 10s 64ms/step - loss: 2.3865 - accuracy: 0.1136 - val_loss: 2.2547 - val_accuracy: 0.1970\n",
      "Epoch 4/20\n",
      "157/157 [==============================] - 10s 63ms/step - loss: 2.3315 - accuracy: 0.1332 - val_loss: 2.6223 - val_accuracy: 0.1130\n",
      "Epoch 5/20\n",
      "157/157 [==============================] - 10s 63ms/step - loss: 2.2485 - accuracy: 0.1778 - val_loss: 2.2012 - val_accuracy: 0.1730\n",
      "Epoch 6/20\n",
      "157/157 [==============================] - 10s 63ms/step - loss: 2.0702 - accuracy: 0.2532 - val_loss: 2.3785 - val_accuracy: 0.2360\n",
      "Epoch 7/20\n",
      "157/157 [==============================] - 10s 64ms/step - loss: 1.9126 - accuracy: 0.3094 - val_loss: 1.8496 - val_accuracy: 0.3180\n",
      "Epoch 8/20\n",
      "157/157 [==============================] - 10s 64ms/step - loss: 1.7855 - accuracy: 0.3548 - val_loss: 1.9168 - val_accuracy: 0.2750\n",
      "Epoch 9/20\n",
      "157/157 [==============================] - 10s 65ms/step - loss: 1.6544 - accuracy: 0.4148 - val_loss: 1.8123 - val_accuracy: 0.3510\n",
      "Epoch 10/20\n",
      "157/157 [==============================] - 10s 64ms/step - loss: 1.5896 - accuracy: 0.4306 - val_loss: 1.6592 - val_accuracy: 0.4120\n",
      "Epoch 11/20\n",
      "157/157 [==============================] - 10s 64ms/step - loss: 1.5193 - accuracy: 0.4596 - val_loss: 1.6035 - val_accuracy: 0.4110\n",
      "Epoch 12/20\n",
      "157/157 [==============================] - 10s 64ms/step - loss: 1.4201 - accuracy: 0.4960 - val_loss: 1.7697 - val_accuracy: 0.3820\n",
      "Epoch 13/20\n",
      "157/157 [==============================] - 10s 64ms/step - loss: 1.3759 - accuracy: 0.5208 - val_loss: 1.6344 - val_accuracy: 0.4140\n",
      "Epoch 14/20\n",
      "157/157 [==============================] - 10s 64ms/step - loss: 1.3143 - accuracy: 0.5446 - val_loss: 1.8641 - val_accuracy: 0.4440\n",
      "Epoch 15/20\n",
      "157/157 [==============================] - 10s 64ms/step - loss: 1.2328 - accuracy: 0.5828 - val_loss: 2.3355 - val_accuracy: 0.4170\n",
      "Epoch 16/20\n",
      "157/157 [==============================] - 10s 64ms/step - loss: 1.1401 - accuracy: 0.6168 - val_loss: 1.7935 - val_accuracy: 0.4030\n",
      "Epoch 17/20\n",
      "157/157 [==============================] - 10s 64ms/step - loss: 1.0932 - accuracy: 0.6352 - val_loss: 1.7313 - val_accuracy: 0.4410\n",
      "Epoch 18/20\n",
      "157/157 [==============================] - 10s 65ms/step - loss: 1.0202 - accuracy: 0.6588 - val_loss: 2.1356 - val_accuracy: 0.4230\n",
      "Epoch 19/20\n",
      "157/157 [==============================] - 10s 65ms/step - loss: 0.9571 - accuracy: 0.6828 - val_loss: 2.0025 - val_accuracy: 0.4980\n",
      "Epoch 20/20\n",
      "157/157 [==============================] - 10s 64ms/step - loss: 0.9451 - accuracy: 0.7030 - val_loss: 1.9144 - val_accuracy: 0.4930\n"
     ]
    }
   ],
   "source": [
    "# fit model --> Training.\n",
    "history = model.fit(xtrain, ytrain, epochs=20, batch_size=32, validation_data=(xtest, ytest), verbose=1)"
   ]
  },
  {
   "cell_type": "code",
   "execution_count": null,
   "metadata": {
    "colab": {
     "base_uri": "https://localhost:8080/"
    },
    "id": "La1WA_G9I4NN",
    "outputId": "773ad023-19e9-41a2-c1fd-b6c11c6d37e6"
   },
   "outputs": [
    {
     "name": "stdout",
     "output_type": "stream",
     "text": [
      "accuracy:  49.300000071525574\n"
     ]
    }
   ],
   "source": [
    "# evaluate model\n",
    "__, acc = model.evaluate(xtest, ytest, verbose=0)\n",
    "print(\"accuracy: \", acc*100)"
   ]
  },
  {
   "cell_type": "code",
   "execution_count": 2,
   "metadata": {},
   "outputs": [],
   "source": [
    "## The model has only 49% of accuracy. \n",
    "## You may tune the model for better accuracy.\n",
    "## Here our aim is to learn building AlexNet rather than tuning the model."
   ]
  },
  {
   "cell_type": "code",
   "execution_count": null,
   "metadata": {
    "colab": {
     "base_uri": "https://localhost:8080/"
    },
    "id": "pJUrAEyKI4P3",
    "outputId": "fbf1ef66-11a1-4d80-ac18-ce562cc7d602"
   },
   "outputs": [
    {
     "data": {
      "text/plain": [
       "array([[0.42254454, 0.0024902 , 0.1557005 , 0.18803322, 0.01902289,\n",
       "        0.08172279, 0.02175559, 0.01827072, 0.08560151, 0.00485796]],\n",
       "      dtype=float32)"
      ]
     },
     "execution_count": 22,
     "metadata": {},
     "output_type": "execute_result"
    }
   ],
   "source": [
    "# Predictions.\n",
    "# You can predict using the model.\n",
    "# Predictions are done on unseen data.\n",
    "# Here I am taking an xtest image as an example.\n",
    "model.predict(xtest[:1])"
   ]
  },
  {
   "cell_type": "code",
   "execution_count": null,
   "metadata": {},
   "outputs": [],
   "source": [
    "# You can see that the prediction returns an array with ten numbers.\n",
    "# These numbers are nothing but the prediction probability values associated with the ten labels.\n",
    "# You need to read the official documentation of Keras cifar10 dataset to know these labels and their order of occurence.\n",
    "# The label pertaining to the highest probability valued index is taken as the prediction result.\n",
    "# Here the highest valued number is the zeroth indexed one, which is labelled as an airplane as per the documentation."
   ]
  },
  {
   "cell_type": "code",
   "execution_count": null,
   "metadata": {
    "id": "uIadhzrrZwuA"
   },
   "outputs": [],
   "source": [
    "from google.colab.patches import cv2_imshow"
   ]
  },
  {
   "cell_type": "code",
   "execution_count": null,
   "metadata": {
    "colab": {
     "base_uri": "https://localhost:8080/",
     "height": 217
    },
    "id": "nDc8Ru_A4ZwH",
    "outputId": "efc48006-359e-4858-fd8d-4e1dedf1f4cd"
   },
   "outputs": [
    {
     "data": {
      "image/png": "[encoded data removed]",
      "text/plain": [
       "<PIL.Image.Image image mode=RGB size=200x200 at 0x7F0A40FDEC90>"
      ]
     },
     "metadata": {},
     "output_type": "display_data"
    }
   ],
   "source": [
    "## for visualizing images\n",
    "## To understand which image the model actually predicted.\n",
    "cv2_imshow(cv2.resize((xtest[1]*255), (200,200)))  ## I have resized the output shape to 200x200 for viewing better."
   ]
  },
  {
   "cell_type": "code",
   "execution_count": null,
   "metadata": {},
   "outputs": [],
   "source": [
    "## It turns out that the predicted image is that of a boat.\n",
    "## Obviously our model needs to be trained fore more epochs by taking more images followed by hyperparameter tuning."
   ]
  },
  {
   "cell_type": "code",
   "execution_count": null,
   "metadata": {
    "id": "Ay79TDUUUt3o"
   },
   "outputs": [],
   "source": [
    "# The following link is a good reference blog.\n",
    "# https://towardsdatascience.com/implementing-alexnet-cnn-architecture-using-tensorflow-2-0-and-keras-2113e090ad98"
   ]
  }
 ],
 "metadata": {
  "accelerator": "GPU",
  "colab": {
   "collapsed_sections": [],
   "provenance": []
  },
  "gpuClass": "standard",
  "kernelspec": {
   "display_name": "Python 3",
   "language": "python",
   "name": "python3"
  },
  "language_info": {
   "codemirror_mode": {
    "name": "ipython",
    "version": 3
   },
   "file_extension": ".py",
   "mimetype": "text/x-python",
   "name": "python",
   "nbconvert_exporter": "python",
   "pygments_lexer": "ipython3",
   "version": "3.7.6"
  }
 },
 "nbformat": 4,
 "nbformat_minor": 1
}
